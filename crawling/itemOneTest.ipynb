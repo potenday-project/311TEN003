{
 "cells": [
  {
   "cell_type": "code",
   "execution_count": 2,
   "metadata": {},
   "outputs": [],
   "source": [
    "nameToPkMap = {\n",
    "  \"아이리시 위스키\": 101,\n",
    "  \"내추럴 화이트 와인\": 21,\n",
    "  \"리큐르\": 33,\n",
    "  \"주정강화(마데이라) 와인\": 121,\n",
    "  \"트리펠\": 137,\n",
    "  \"필스너 맥주\": 143,\n",
    "  \"위트 비어\": 112,\n",
    "  \"프렌치 몰트 위스키\": 140,\n",
    "  \"무알콜 맥주\": 48,\n",
    "  \"테네시 위스키\": 135,\n",
    "  \"RTD 칵테일\": 148,\n",
    "  \"스타우트\": 87,\n",
    "  \"약주\": 104,\n",
    "  \"증류주\": 124,\n",
    "  \"싱글 그레인 위스키\": 91,\n",
    "  \"맥주(Hazy Pale Ale)\": 43,\n",
    "  \"내추럴 스파클링 와인\": 19,\n",
    "  \"맥주(Hazy IPA)\": 42,\n",
    "  \"벨지안 에일\": 63,\n",
    "  \"스파클링\": 88,\n",
    "  \"로제 와인\": 32,\n",
    "  \"와인\": 3,\n",
    "  \"글루바인\": 9,\n",
    "  \"샹그리아\": 81,\n",
    "  \"아와모리\": 97,\n",
    "  \"싱글몰트 위스키\": 93,\n",
    "  \"꼬냑\": 15,\n",
    "  \"리큐르 증류주\": 34,\n",
    "  \"샴페인\": 80,\n",
    "  \"기타주류\": 11,\n",
    "  \"전통 소주\": 118,\n",
    "  \"맥주(Kriek)\": 44,\n",
    "  \"배럴 에이지드 임페리얼 스타우트\": 54,\n",
    "  \"마데이라 와인\": 37,\n",
    "  \"버번 배럴 에이지드 임페리얼 스타우트\": 58,\n",
    "  \"크레망(스파클링 와인)\": 134,\n",
    "  \"다크럼\": 23,\n",
    "  \"바이스비어\": 52,\n",
    "  \"스웨덴 싱글몰트 위스키\": 83,\n",
    "  \"일반 증류주\": 113,\n",
    "  \"쿼드루펠\": 132,\n",
    "  \"피스코\": 142,\n",
    "  \"오렌지 와인\": 108,\n",
    "  \"콘 위스키\": 131,\n",
    "  \"주정강화 와인\": 120,\n",
    "  \"캐내디언 위스키\": 129,\n",
    "  \"배럴 에이지드 스타우트\": 53,\n",
    "  \"맥주(메르첸)\": 39,\n",
    "  \"까바\": 12,\n",
    "  \"블렌디드 아이리시 위스키\": 72,\n",
    "  \"아이스와인\": 102,\n",
    "  \"주정강화(포트) 와인\": 122,\n",
    "  \"페일 라거 맥주\": 138,\n",
    "  \"로제 샴페인\": 31,\n",
    "  \"블렌디드 위스키\": 73,\n",
    "  \"크레망\": 133,\n",
    "  \"맥주(Strong Belgian Brown Ale)\": 46,\n",
    "  \"내추럴 스파클링 로제 와인\": 18,\n",
    "  \"맥주(Pale Ale)\": 45,\n",
    "  \"레드와인\": 30,\n",
    "  \"진 리큐르\": 126,\n",
    "  \"밀맥주\": 51,\n",
    "  \"허니 리큐르\": 144,\n",
    "  \"막걸리\": 4,\n",
    "  \"복비어\": 68,\n",
    "  \"블렌디드 위스키 - 캐스크 스트렝스\": 74,\n",
    "  \"내추럴 로제 와인\": 17,\n",
    "  \"데킬라\": 24,\n",
    "  \"블렌디드그레인 위스키\": 75,\n",
    "  \"벨지안 화이트\": 64,\n",
    "  \"일본 소주\": 114,\n",
    "  \"다크 럼\": 22,\n",
    "  \"디저트 와인\": 25,\n",
    "  \"블렌디드 그레인 위스키\": 70,\n",
    "  \"위스키\": 111,\n",
    "  \"리큐르, 사케\": 35,\n",
    "  \"임페리얼 스타우트\": 115,\n",
    "  \"스카치 블렌디드 위스키\": 85,\n",
    "  \"무알콜 와인\": 49,\n",
    "  \"아이리시 싱글몰트 위스키\": 100,\n",
    "  \"증류식 소주\": 123,\n",
    "  \"그레인 위스키\": 8,\n",
    "  \"블렌디드몰트 위스키\": 76,\n",
    "  \"미분류\": 149,\n",
    "  \"커피 리큐르\": 130,\n",
    "  \"스파클링 에일\": 89,\n",
    "  \"메즈칼\": 47,\n",
    "  \"보리소주\": 67,\n",
    "  \"애비 에일\": 103,\n",
    "  \"맥주\": 2,\n",
    "  \"레드 와인\": 29,\n",
    "  \"맥주(배럴 에이지드 임페리얼 스타우트)\": 40,\n",
    "  \"우리술\": 109,\n",
    "  \"깔바도스(뽀모 드 노르망디)\": 14,\n",
    "  \"고량주\": 6,\n",
    "  \"그라파\": 7,\n",
    "  \"쌀 소주\": 94,\n",
    "  \"매실주\": 38,\n",
    "  \"버무스\": 57,\n",
    "  \"벨지안 골든 스트롱 에일\": 61,\n",
    "  \"포트 와인\": 139,\n",
    "  \"IPA 맥주\": 147,\n",
    "  \"화이트 와인\": 145,\n",
    "  \"깔바도스\": 13,\n",
    "  \"캐나디안 위스키\": 128,\n",
    "  \"아이리시 블렌디드 위스키\": 98,\n",
    "  \"살균 약주\": 79,\n",
    "  \"아르마냑\": 95,\n",
    "  \"진\": 125,\n",
    "  \"재패니즈 위스키\": 117,\n",
    "  \"에비 에일\": 105,\n",
    "  \"벨기에 다크 에일\": 60,\n",
    "  \"토카이 와인\": 136,\n",
    "  \"사케\": 78,\n",
    "  \"버번 위스키\": 59,\n",
    "  \"보드카\": 65,\n",
    "  \"아메리칸 위스키\": 96,\n",
    "  \"엑스트라 페일 에일(Extra Pale Ale)\": 106,\n",
    "  \"내추럴 와인(펫낫)\": 20,\n",
    "  \"사이더\": 77,\n",
    "  \"싱글몰트 아이리시 위스키\": 92,\n",
    "  \"전통주\": 119,\n",
    "  \"스위트 와인\": 84,\n",
    "  \"브랜디\": 69,\n",
    "  \"플레미쉬 레드 에일\": 141,\n",
    "  \"소주\": 1,\n",
    "  \"보리 소주\": 66,\n",
    "  \"블렌디드 몰트 위스키\": 71,\n",
    "  \"스파클링 와인\": 90,\n",
    "  \"내추럴 레드 와인\": 16,\n",
    "  \"기타 주류\": 10,\n",
    "  \"라이 위스키\": 27,\n",
    "  \"맥주(앰버 라거)\": 41,\n",
    "  \"스카치 에일\": 86,\n",
    "  \"벨지안 스페셜 블론드\": 62,\n",
    "  \"아이리시 싱글 그레인 위스키\": 99,\n",
    "  \"오드비\": 107,\n",
    "  \"미드\": 50,\n",
    "  \"배럴 에이지드 임페리얼 포터\": 55,\n",
    "  \"청주\": 127,\n",
    "  \"재패니스 위스키\": 116,\n",
    "  \"라거 맥주\": 26,\n",
    "  \"수제맥주\": 82,\n",
    "  \"IPA\": 146,\n",
    "  \"고구마 소주\": 5,\n",
    "  \"럼\": 28,\n",
    "  \"리큐르(우리술)\": 36,\n",
    "  \"백주\": 56,\n",
    "  \"웨일즈 싱글몰트 위스키\": 110\n",
    "}"
   ]
  },
  {
   "cell_type": "code",
   "execution_count": 1,
   "metadata": {},
   "outputs": [],
   "source": [
    "item =   {\n",
    "    \"title\": \"앱솔루트 그레이프\",\n",
    "    \"taste\": {\n",
    "      \"Aroma\": \"파파야, 청포도, 용과\",\n",
    "      \"Taste\": \"알코올감, 과일, 부드러운\",\n",
    "      \"Finish\": \"산뜻한, 신선한, 과일\"\n",
    "    },\n",
    "    \"info\": { \"variant\": \"보드카\", \"volume\": \"750m\", \"degree\": \"40%\" }\n",
    "  }"
   ]
  },
  {
   "cell_type": "code",
   "execution_count": 10,
   "metadata": {},
   "outputs": [],
   "source": [
    "def getATypePK(name):\n",
    "    if name in nameToPkMap:\n",
    "        return nameToPkMap[name]\n",
    "    else:\n",
    "        return nameToPkMap['미분류']"
   ]
  },
  {
   "cell_type": "code",
   "execution_count": 35,
   "metadata": {},
   "outputs": [],
   "source": [
    "def average_decimal_from_percentage_range(percentage_range):\n",
    "    # Split the range into lower and upper bounds\n",
    "    lower, upper = map(float, percentage_range.strip('%').split('~'))\n",
    "\n",
    "    # Calculate the average\n",
    "    average_decimal = (lower + upper) / 2\n",
    "\n",
    "    return average_decimal\n",
    "\n",
    "def preprocessDegree(degree):\n",
    "    try:\n",
    "        if '~' in degree:\n",
    "            return float(average_decimal_from_percentage_range(degree))\n",
    "        result = float(degree.replace('%', ''))\n",
    "    except:\n",
    "        pattern = \"[-+]?\\d*\\.?\\d+\"\n",
    "        result = re.search(pattern, test).group(0)\n",
    "    return result\n",
    "def preprocessVolume(volume):\n",
    "    try:\n",
    "        result = int(volume.replace('ml', '').replace('m', '').replace('mL', ''))\n",
    "    except:\n",
    "        pattern = \"[-+]?\\d*\\.?\\d+\"\n",
    "        result = re.search(pattern, test).group(0)\n",
    "    return int(round(float(result)))"
   ]
  },
  {
   "cell_type": "code",
   "execution_count": 20,
   "metadata": {},
   "outputs": [],
   "source": [
    "jsonItem = {\n",
    "  \"alcoholName\": item['title'],\n",
    "  \"alcoholTypeNo\": getATypePK(item['info']['variant']),\n",
    "  \"degree\": preprocessDegree(item['info']['degree']),\n",
    "  \"volume\": preprocessVolume(item['info']['volume']),\n",
    "  \"taste\": item['taste']\n",
    "}"
   ]
  },
  {
   "cell_type": "code",
   "execution_count": 21,
   "metadata": {},
   "outputs": [
    {
     "data": {
      "text/plain": [
       "{'alcoholName': '앱솔루트 그레이프',\n",
       " 'alcoholTypeNo': 65,\n",
       " 'degree': 40.0,\n",
       " 'volume': 750,\n",
       " 'taste': {'Aroma': '파파야, 청포도, 용과',\n",
       "  'Taste': '알코올감, 과일, 부드러운',\n",
       "  'Finish': '산뜻한, 신선한, 과일'}}"
      ]
     },
     "execution_count": 21,
     "metadata": {},
     "output_type": "execute_result"
    }
   ],
   "source": [
    "jsonItem"
   ]
  },
  {
   "cell_type": "code",
   "execution_count": 22,
   "metadata": {},
   "outputs": [
    {
     "data": {
      "text/plain": [
       "'{\"alcoholName\": \"앱솔루트 그레이프\", \"alcoholTypeNo\": 65, \"degree\": 40.0, \"volume\": 750, \"taste\": {\"Aroma\": \"파파야, 청포도, 용과\", \"Taste\": \"알코올감, 과일, 부드러운\", \"Finish\": \"산뜻한, 신선한, 과일\"}}'"
      ]
     },
     "execution_count": 22,
     "metadata": {},
     "output_type": "execute_result"
    }
   ],
   "source": [
    "import json\n",
    "json.dumps(jsonItem, ensure_ascii=False)"
   ]
  },
  {
   "cell_type": "code",
   "execution_count": 24,
   "metadata": {},
   "outputs": [],
   "source": [
    "file_path = '/Users/dongseoklee/Downloads/result.json'\n",
    "\n",
    "# Read JSON data from the file\n",
    "with open(file_path, 'r') as file:\n",
    "    data = json.load(file)"
   ]
  },
  {
   "cell_type": "code",
   "execution_count": 26,
   "metadata": {},
   "outputs": [
    {
     "data": {
      "text/plain": [
       "2560"
      ]
     },
     "execution_count": 26,
     "metadata": {},
     "output_type": "execute_result"
    }
   ],
   "source": [
    "len(data)"
   ]
  },
  {
   "cell_type": "code",
   "execution_count": 36,
   "metadata": {},
   "outputs": [],
   "source": [
    "resultDataList = []\n",
    "for item in data:\n",
    "    resultDataList.append({\n",
    "  \"alcoholName\": item['title'],\n",
    "  \"alcoholTypeNo\": getATypePK(item['info']['variant']),\n",
    "  \"degree\": preprocessDegree(item['info']['degree']),\n",
    "  \"volume\": preprocessVolume(item['info']['volume']),\n",
    "  \"taste\": item['taste']\n",
    "})"
   ]
  },
  {
   "cell_type": "code",
   "execution_count": 28,
   "metadata": {},
   "outputs": [
    {
     "data": {
      "text/plain": [
       "'60.3'"
      ]
     },
     "execution_count": 28,
     "metadata": {},
     "output_type": "execute_result"
    }
   ],
   "source": [
    "import re\n"
   ]
  },
  {
   "cell_type": "code",
   "execution_count": 38,
   "metadata": {},
   "outputs": [
    {
     "data": {
      "text/plain": [
       "2560"
      ]
     },
     "execution_count": 38,
     "metadata": {},
     "output_type": "execute_result"
    }
   ],
   "source": [
    "len(resultDataList)"
   ]
  },
  {
   "cell_type": "code",
   "execution_count": 39,
   "metadata": {},
   "outputs": [
    {
     "data": {
      "text/plain": [
       "{'alcoholName': '글렌모렌지 퀸타루반 14년(신형)',\n",
       " 'alcoholTypeNo': 93,\n",
       " 'degree': 46.0,\n",
       " 'volume': 700,\n",
       " 'taste': {'Aroma': '샌달우드, 호두, 스파이스',\n",
       "  'Taste': '마시멜로, 블랙 페퍼, 오렌지',\n",
       "  'Finish': '긴 여운, 페퍼민트, 다크 초콜릿'}}"
      ]
     },
     "execution_count": 39,
     "metadata": {},
     "output_type": "execute_result"
    }
   ],
   "source": [
    "resultDataList[-1]"
   ]
  },
  {
   "cell_type": "code",
   "execution_count": null,
   "metadata": {},
   "outputs": [],
   "source": []
  }
 ],
 "metadata": {
  "kernelspec": {
   "display_name": "Python 3",
   "language": "python",
   "name": "python3"
  },
  "language_info": {
   "codemirror_mode": {
    "name": "ipython",
    "version": 3
   },
   "file_extension": ".py",
   "mimetype": "text/x-python",
   "name": "python",
   "nbconvert_exporter": "python",
   "pygments_lexer": "ipython3",
   "version": "3.11.5"
  }
 },
 "nbformat": 4,
 "nbformat_minor": 2
}
