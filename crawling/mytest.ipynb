{
 "cells": [
  {
   "cell_type": "code",
   "execution_count": 1,
   "metadata": {},
   "outputs": [],
   "source": [
    "# insert \n",
    "#     into\n",
    "#         alcohol_type (created_date,description,last_modified_date,name) \n",
    "#     values\n",
    "#         ('2023-12-09T12:39:03.095+0900','와인이다.','2023-12-09T12:39:03.095+0900','막걸리')\n"
   ]
  },
  {
   "cell_type": "code",
   "execution_count": 4,
   "metadata": {},
   "outputs": [],
   "source": [
    "aTypeList = [\n",
    "  \"고구마 소주\",\n",
    "  \"고량주\",\n",
    "  \"그라파\",\n",
    "  \"그레인 위스키\",\n",
    "  \"글루바인\",\n",
    "  \"기타 주류\",\n",
    "  \"기타주류\",\n",
    "  \"까바\",\n",
    "  \"깔바도스\",\n",
    "  \"깔바도스(뽀모 드 노르망디)\",\n",
    "  \"꼬냑\",\n",
    "  \"내추럴 레드 와인\",\n",
    "  \"내추럴 로제 와인\",\n",
    "  \"내추럴 스파클링 로제 와인\",\n",
    "  \"내추럴 스파클링 와인\",\n",
    "  \"내추럴 와인(펫낫)\",\n",
    "  \"내추럴 화이트 와인\",\n",
    "  \"다크 럼\",\n",
    "  \"다크럼\",\n",
    "  \"데킬라\",\n",
    "  \"디저트 와인\",\n",
    "  \"라거 맥주\",\n",
    "  \"라이 위스키\",\n",
    "  \"럼\",\n",
    "  \"레드 와인\",\n",
    "  \"레드와인\",\n",
    "  \"로제 샴페인\",\n",
    "  \"로제 와인\",\n",
    "  \"리큐르\",\n",
    "  \"리큐르 증류주\",\n",
    "  \"리큐르, 사케\",\n",
    "  \"리큐르(우리술)\",\n",
    "  \"마데이라 와인\",\n",
    "  \"막걸리\",\n",
    "  \"매실주\",\n",
    "  \"맥주\",\n",
    "  \"맥주(메르첸)\",\n",
    "  \"맥주(배럴 에이지드 임페리얼 스타우트)\",\n",
    "  \"맥주(앰버 라거)\",\n",
    "  \"맥주(Hazy IPA)\",\n",
    "  \"맥주(Hazy Pale Ale)\",\n",
    "  \"맥주(Kriek)\",\n",
    "  \"맥주(Pale Ale)\",\n",
    "  \"맥주(Strong Belgian Brown Ale)\",\n",
    "  \"메즈칼\",\n",
    "  \"무알콜 맥주\",\n",
    "  \"무알콜 와인\",\n",
    "  \"미드\",\n",
    "  \"밀맥주\",\n",
    "  \"바이스비어\",\n",
    "  \"배럴 에이지드 스타우트\",\n",
    "  \"배럴 에이지드 임페리얼 스타우트\",\n",
    "  \"배럴 에이지드 임페리얼 포터\",\n",
    "  \"백주\",\n",
    "  \"버무스\",\n",
    "  \"버번 배럴 에이지드 임페리얼 스타우트\",\n",
    "  \"버번 위스키\",\n",
    "  \"벨기에 다크 에일\",\n",
    "  \"벨지안 골든 스트롱 에일\",\n",
    "  \"벨지안 스페셜 블론드\",\n",
    "  \"벨지안 에일\",\n",
    "  \"벨지안 화이트\",\n",
    "  \"보드카\",\n",
    "  \"보리 소주\",\n",
    "  \"보리소주\",\n",
    "  \"복비어\",\n",
    "  \"브랜디\",\n",
    "  \"블렌디드 그레인 위스키\",\n",
    "  \"블렌디드 몰트 위스키\",\n",
    "  \"블렌디드 아이리시 위스키\",\n",
    "  \"블렌디드 위스키\",\n",
    "  \"블렌디드 위스키 - 캐스크 스트렝스\",\n",
    "  \"블렌디드그레인 위스키\",\n",
    "  \"블렌디드몰트 위스키\",\n",
    "  \"사이더\",\n",
    "  \"사케\",\n",
    "  \"살균 약주\",\n",
    "  \"샴페인\",\n",
    "  \"샹그리아\",\n",
    "  \"수제맥주\",\n",
    "  \"스웨덴 싱글몰트 위스키\",\n",
    "  \"스위트 와인\",\n",
    "  \"스카치 블렌디드 위스키\",\n",
    "  \"스카치 에일\",\n",
    "  \"스타우트\",\n",
    "  \"스파클링\",\n",
    "  \"스파클링 에일\",\n",
    "  \"스파클링 와인\",\n",
    "  \"싱글 그레인 위스키\",\n",
    "  \"싱글몰트 아이리시 위스키\",\n",
    "  \"싱글몰트 위스키\",\n",
    "  \"쌀 소주\",\n",
    "  \"아르마냑\",\n",
    "  \"아메리칸 위스키\",\n",
    "  \"아와모리\",\n",
    "  \"아이리시 블렌디드 위스키\",\n",
    "  \"아이리시 싱글 그레인 위스키\",\n",
    "  \"아이리시 싱글몰트 위스키\",\n",
    "  \"아이리시 위스키\",\n",
    "  \"아이스와인\",\n",
    "  \"애비 에일\",\n",
    "  \"약주\",\n",
    "  \"에비 에일\",\n",
    "  \"엑스트라 페일 에일(Extra Pale Ale)\",\n",
    "  \"오드비\",\n",
    "  \"오렌지 와인\",\n",
    "  \"와인\",\n",
    "  \"우리술\",\n",
    "  \"웨일즈 싱글몰트 위스키\",\n",
    "  \"위스키\",\n",
    "  \"위트 비어\",\n",
    "  \"일반 증류주\",\n",
    "  \"일본 소주\",\n",
    "  \"임페리얼 스타우트\",\n",
    "  \"재패니스 위스키\",\n",
    "  \"재패니즈 위스키\",\n",
    "  \"전통 소주\",\n",
    "  \"전통주\",\n",
    "  \"주정강화 와인\",\n",
    "  \"주정강화(마데이라) 와인\",\n",
    "  \"주정강화(포트) 와인\",\n",
    "  \"증류식 소주\",\n",
    "  \"증류주\",\n",
    "  \"진\",\n",
    "  \"진 리큐르\",\n",
    "  \"청주\",\n",
    "  \"캐나디안 위스키\",\n",
    "  \"캐내디언 위스키\",\n",
    "  \"커피 리큐르\",\n",
    "  \"콘 위스키\",\n",
    "  \"쿼드루펠\",\n",
    "  \"크레망\",\n",
    "  \"크레망(스파클링 와인)\",\n",
    "  \"테네시 위스키\",\n",
    "  \"토카이 와인\",\n",
    "  \"트리펠\",\n",
    "  \"페일 라거 맥주\",\n",
    "  \"포트 와인\",\n",
    "  \"프렌치 몰트 위스키\",\n",
    "  \"플레미쉬 레드 에일\",\n",
    "  \"피스코\",\n",
    "  \"필스너 맥주\",\n",
    "  \"허니 리큐르\",\n",
    "  \"화이트 와인\",\n",
    "  \"IPA\",\n",
    "  \"IPA 맥주\",\n",
    "  \"RTD 칵테일\",\n",
    "  \"미분류\"\n",
    "]"
   ]
  },
  {
   "cell_type": "code",
   "execution_count": 5,
   "metadata": {},
   "outputs": [
    {
     "data": {
      "text/plain": [
       "148"
      ]
     },
     "execution_count": 5,
     "metadata": {},
     "output_type": "execute_result"
    }
   ],
   "source": [
    "len(aTypeList)"
   ]
  },
  {
   "cell_type": "code",
   "execution_count": 6,
   "metadata": {},
   "outputs": [],
   "source": [
    "test =\"\"\"\n",
    "insert \n",
    "    into\n",
    "        alcohol_type (created_date,description,last_modified_date,name) \n",
    "    values\n",
    "        (NOW(),'%s',NOW(),'%s')\n",
    "\"\"\" % ('철수', '영희')"
   ]
  },
  {
   "cell_type": "code",
   "execution_count": 8,
   "metadata": {},
   "outputs": [
    {
     "name": "stdout",
     "output_type": "stream",
     "text": [
      "\n",
      "insert \n",
      "    into\n",
      "        alcohol_type (created_date,description,last_modified_date,name) \n",
      "    values\n",
      "        (NOW(),'철수',NOW(),'영희')\n",
      "\n"
     ]
    }
   ],
   "source": [
    "print(test)"
   ]
  },
  {
   "cell_type": "code",
   "execution_count": 9,
   "metadata": {},
   "outputs": [
    {
     "ename": "SyntaxError",
     "evalue": "invalid syntax (4186443170.py, line 7)",
     "output_type": "error",
     "traceback": [
      "\u001b[0;36m  Cell \u001b[0;32mIn[9], line 7\u001b[0;36m\u001b[0m\n\u001b[0;31m    insertFullQuery =\u001b[0m\n\u001b[0m                      ^\u001b[0m\n\u001b[0;31mSyntaxError\u001b[0m\u001b[0;31m:\u001b[0m invalid syntax\n"
     ]
    }
   ],
   "source": [
    "insertValuePartSql = \"\"\n",
    "for idx, aType in enumerate(aTypeList):\n",
    "    insertItemPartSql = \"(NOW(),'%s',NOW(),'%s')\" % (aType, aType)\n",
    "    insertValuePartSql += insertItemPartSql\n",
    "    if idx != (len(aType)-1):\n",
    "        insertValuePartSql += \",\\n\"\n",
    "insertFullQuery = \"\"\"\n",
    "insert \n",
    "    into\n",
    "        alcohol_type (created_date,description,last_modified_date,name) \n",
    "    values\n",
    "        %s\n",
    "\"\"\" % (insertValuePartSql)"
   ]
  },
  {
   "cell_type": "code",
   "execution_count": null,
   "metadata": {},
   "outputs": [],
   "source": []
  }
 ],
 "metadata": {
  "kernelspec": {
   "display_name": "Python 3",
   "language": "python",
   "name": "python3"
  },
  "language_info": {
   "codemirror_mode": {
    "name": "ipython",
    "version": 3
   },
   "file_extension": ".py",
   "mimetype": "text/x-python",
   "name": "python",
   "nbconvert_exporter": "python",
   "pygments_lexer": "ipython3",
   "version": "3.11.5"
  }
 },
 "nbformat": 4,
 "nbformat_minor": 2
}
